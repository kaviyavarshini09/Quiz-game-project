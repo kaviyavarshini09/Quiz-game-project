{
 "cells": [
  {
   "cell_type": "code",
   "execution_count": 9,
   "id": "051f668b-e7f4-4399-bc8d-c729bb1d494f",
   "metadata": {},
   "outputs": [
    {
     "name": "stdout",
     "output_type": "stream",
     "text": [
      "Welcome to my computer quiz !\n"
     ]
    },
    {
     "name": "stdin",
     "output_type": "stream",
     "text": [
      "do you want to play this game?  yes\n"
     ]
    },
    {
     "name": "stdout",
     "output_type": "stream",
     "text": [
      "Okay! Let's Start\n"
     ]
    },
    {
     "name": "stdin",
     "output_type": "stream",
     "text": [
      "what does CPU stand for?  cental processing unit\n"
     ]
    },
    {
     "name": "stdout",
     "output_type": "stream",
     "text": [
      "Incorrect!\n"
     ]
    },
    {
     "name": "stdin",
     "output_type": "stream",
     "text": [
      "Which planet is known as the Red Planet? mars\n"
     ]
    },
    {
     "name": "stdout",
     "output_type": "stream",
     "text": [
      "correct!\n"
     ]
    },
    {
     "name": "stdin",
     "output_type": "stream",
     "text": [
      "How many days are there in a leap year? 365\n"
     ]
    },
    {
     "name": "stdout",
     "output_type": "stream",
     "text": [
      "Incorrect!\n"
     ]
    },
    {
     "name": "stdin",
     "output_type": "stream",
     "text": [
      "What is the national fruit of India? mangoo'\n"
     ]
    },
    {
     "name": "stdout",
     "output_type": "stream",
     "text": [
      "Incorrect!\n"
     ]
    },
    {
     "name": "stdin",
     "output_type": "stream",
     "text": [
      "Which animal is known as the ‘Ship of the Desert’? camel\n"
     ]
    },
    {
     "name": "stdout",
     "output_type": "stream",
     "text": [
      "correct!\n"
     ]
    },
    {
     "name": "stdin",
     "output_type": "stream",
     "text": [
      "What is the capital of Japan?  tokyo\n"
     ]
    },
    {
     "name": "stdout",
     "output_type": "stream",
     "text": [
      "correct!\n"
     ]
    },
    {
     "name": "stdin",
     "output_type": "stream",
     "text": [
      "How many colors are there in a rainbow? 7\n"
     ]
    },
    {
     "name": "stdout",
     "output_type": "stream",
     "text": [
      "correct!\n"
     ]
    },
    {
     "name": "stdin",
     "output_type": "stream",
     "text": [
      "What is the largest mammal in the world? bluewhale\n"
     ]
    },
    {
     "name": "stdout",
     "output_type": "stream",
     "text": [
      "correct!\n",
      "you got 5 questions correct!\n",
      "you got 62.5%. \n"
     ]
    }
   ],
   "source": [
    "print(\"Welcome to my computer quiz !\")\n",
    "\n",
    "playing = input(\"do you want to play this game? \") \n",
    "\n",
    "if playing.lower()!= \"yes\":\n",
    "    quit()\n",
    "\n",
    "print(\"Okay! Let's Start\")\n",
    "score=0\n",
    "answer=input(\"what does CPU stand for? \").lower()\n",
    "if answer== \"central processing unit\":\n",
    "    print('correct!')\n",
    "    score+=1\n",
    "else:\n",
    "    print('Incorrect!')\n",
    "\n",
    "answer=input(\"Which planet is known as the Red Planet?\").lower()\n",
    "if answer== \"mars\":\n",
    "    print('correct!')\n",
    "    score+=1\n",
    "else:\n",
    "    print('Incorrect!')\n",
    "\n",
    "answer=input(\"How many days are there in a leap year?\").lower()\n",
    "if answer== \"366\":\n",
    "    print('correct!')\n",
    "    score+=1\n",
    "else:\n",
    "    print('Incorrect!')\n",
    "\n",
    "answer=input(\"What is the national fruit of India?\").lower()\n",
    "if answer== \"mango\":\n",
    "    print('correct!')\n",
    "    score+=1\n",
    "else:\n",
    "    print('Incorrect!')\n",
    "\n",
    "answer=input(\"Which animal is known as the ‘Ship of the Desert’?\").lower()\n",
    "if answer== \"camel\":\n",
    "    print('correct!')\n",
    "    score+=1\n",
    "else:\n",
    "    print('Incorrect!')\n",
    "\n",
    "answer=input(\"What is the capital of Japan? \").lower()\n",
    "if answer== \"tokyo\":\n",
    "    print('correct!')\n",
    "    score+=1\n",
    "else:\n",
    "    print('Incorrect!')\n",
    "\n",
    "answer=input(\"How many colors are there in a rainbow?\").lower()\n",
    "if answer== \"7\":\n",
    "    print('correct!')\n",
    "    score+=1\n",
    "else:\n",
    "    print('Incorrect!')\n",
    "\n",
    "answer=input(\"What is the largest mammal in the world?\").lower()\n",
    "if answer== \"bluewhale\":\n",
    "    print('correct!')\n",
    "    score+=1\n",
    "else:\n",
    "    print('Incorrect!')\n",
    "\n",
    "print(\"you got \"+ str(score)+ \" questions correct!\")\n",
    "print(\"you got \"+ str((score/8)*100)+ \"%. \")"
   ]
  },
  {
   "cell_type": "code",
   "execution_count": null,
   "id": "c3c1ee2c-68ea-4e21-a72e-919054672bc3",
   "metadata": {},
   "outputs": [],
   "source": []
  }
 ],
 "metadata": {
  "kernelspec": {
   "display_name": "Python 3 (ipykernel)",
   "language": "python",
   "name": "python3"
  },
  "language_info": {
   "codemirror_mode": {
    "name": "ipython",
    "version": 3
   },
   "file_extension": ".py",
   "mimetype": "text/x-python",
   "name": "python",
   "nbconvert_exporter": "python",
   "pygments_lexer": "ipython3",
   "version": "3.12.7"
  }
 },
 "nbformat": 4,
 "nbformat_minor": 5
}
